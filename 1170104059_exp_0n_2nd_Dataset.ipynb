{
  "nbformat": 4,
  "nbformat_minor": 0,
  "metadata": {
    "colab": {
      "name": "1170104059_exp_0n_2nd_Dataset.ipynb",
      "provenance": [],
      "collapsed_sections": []
    },
    "kernelspec": {
      "display_name": "Python 3",
      "name": "python3"
    },
    "language_info": {
      "name": "python"
    }
  },
  "cells": [
    {
      "cell_type": "code",
      "metadata": {
        "id": "ivnyzJDoSr7q"
      },
      "source": [
        "import pandas as pd\n",
        "import numpy as np\n",
        "import matplotlib\n",
        "import matplotlib.pyplot as plt\n",
        "import cv2\n",
        "import torch\n",
        "import torch.nn as nn\n",
        "import torch.nn.functional as F\n",
        "import torch.optim as optim\n",
        "from torch.utils.data import Dataset\n",
        "from torch.utils.data.sampler import SubsetRandomSampler\n",
        "import torchvision.transforms as transforms\n",
        "import torchvision.datasets as dsets\n",
        "from PIL import Image\n",
        "from torchvision import datasets, transforms, models\n",
        "from torch.autograd import Variable\n",
        "from zipfile import ZipFile\n",
        "import os\n",
        "from os import path\n",
        "import shutil\n"
      ],
      "execution_count": null,
      "outputs": []
    },
    {
      "cell_type": "code",
      "metadata": {
        "colab": {
          "base_uri": "https://localhost:8080/"
        },
        "id": "n3STG0CRS5JY",
        "outputId": "c1c34957-5809-483f-f32d-2fc30683ef2e"
      },
      "source": [
        "from google.colab import drive\n",
        "drive.mount('/content/drive',force_remount=True)"
      ],
      "execution_count": null,
      "outputs": [
        {
          "name": "stdout",
          "output_type": "stream",
          "text": [
            "Mounted at /content/drive\n"
          ]
        }
      ]
    },
    {
      "cell_type": "markdown",
      "metadata": {
        "id": "Yw4Q_gHNUr5p"
      },
      "source": [
        "## Data prepocecing"
      ]
    },
    {
      "cell_type": "code",
      "metadata": {
        "id": "4xo2Y1RkUo6p"
      },
      "source": [
        "dataset_2 = '/content/drive/MyDrive/CSE4238/Dataset_2.zip'\n",
        "with ZipFile(dataset_2, 'r') as zip:\n",
        "  zip.extractall()"
      ],
      "execution_count": null,
      "outputs": []
    },
    {
      "cell_type": "code",
      "metadata": {
        "id": "5o0rateEU5uD"
      },
      "source": [
        "df_train = pd.read_csv('/content/Dataset_2/verification_train.csv')\n",
        "df_test = pd.read_csv('/content/Dataset_2/verification_test.csv')"
      ],
      "execution_count": null,
      "outputs": []
    },
    {
      "cell_type": "code",
      "metadata": {
        "id": "NaGU9y48V3tn"
      },
      "source": [
        "X_train = df_train.drop(\"label\", axis=1).values.astype(np.uint8)\n",
        "y_train = df_train[\"label\"].values\n",
        "\n",
        "X_test = df_test.drop(\"label\", axis=1).values.astype(np.uint8)\n",
        "y_test = df_test[\"label\"].values"
      ],
      "execution_count": null,
      "outputs": []
    },
    {
      "cell_type": "code",
      "metadata": {
        "id": "g99-7sXsWIOZ"
      },
      "source": [
        "class DigitsDataset(Dataset):\n",
        "    def __init__(self, X, y=None, transforms=None):\n",
        "        self.X = X\n",
        "        self.y = y\n",
        "        self.transforms = transforms\n",
        "\n",
        "    def __len__(self):\n",
        "        return self.X.shape[0]\n",
        "\n",
        "    def __getitem__(self, idx):\n",
        "        X = np.reshape(self.X[idx], (28, 28, 1))\n",
        "        if self.transforms is not None:\n",
        "            X = self.transforms(X)\n",
        "        if self.y is not None:\n",
        "            return X, self.y[idx]\n",
        "        else:\n",
        "            return X"
      ],
      "execution_count": null,
      "outputs": []
    },
    {
      "cell_type": "code",
      "metadata": {
        "id": "AgmtKtIYWKv0"
      },
      "source": [
        "transform_train = transforms.Compose([\n",
        "        transforms.ToTensor(),\n",
        "        transforms.Normalize((0.5,), (0.5,))\n",
        "    ])\n",
        "\n",
        "transform_test = transforms.Compose([\n",
        "        transforms.ToTensor(),\n",
        "        transforms.Normalize((0.5,), (0.5,))\n",
        "    ])"
      ],
      "execution_count": null,
      "outputs": []
    },
    {
      "cell_type": "code",
      "metadata": {
        "id": "WfAXiPFIWLLM"
      },
      "source": [
        "train_data = DigitsDataset(X=X_train, y=y_train, transforms=transform_train)\n",
        "test_data = DigitsDataset(X=X_test, y=y_test, transforms=transform_test)"
      ],
      "execution_count": null,
      "outputs": []
    },
    {
      "cell_type": "markdown",
      "metadata": {
        "id": "Gbp8sRmVWxJt"
      },
      "source": [
        "## Base HyperParam"
      ]
    },
    {
      "cell_type": "code",
      "metadata": {
        "colab": {
          "base_uri": "https://localhost:8080/"
        },
        "id": "Xgt4jNeeWml6",
        "outputId": "15bd03f1-fe1a-48b3-f109-5ce2e3422b78"
      },
      "source": [
        "batch_size = 20\n",
        "num_iters = 20000\n",
        "input_dim = 28*28\n",
        "num_hidden = 200\n",
        "output_dim = 10\n",
        "\n",
        "learning_rate = 0.01\n",
        "\n",
        "num_epochs = num_iters / (len(train_data) / batch_size)\n",
        "num_epochs = int(num_epochs)\n",
        "print(num_epochs)\n",
        "\n",
        "device = torch.device(\"cuda:0\" if torch.cuda.is_available() else \"cpu\")"
      ],
      "execution_count": null,
      "outputs": [
        {
          "name": "stdout",
          "output_type": "stream",
          "text": [
            "6\n"
          ]
        }
      ]
    },
    {
      "cell_type": "code",
      "metadata": {
        "colab": {
          "base_uri": "https://localhost:8080/"
        },
        "id": "tBg5oSuGW3iO",
        "outputId": "48a18f00-3abf-4c50-cac7-ec028e126d39"
      },
      "source": [
        "train_loader = torch.utils.data.DataLoader(train_data, batch_size=batch_size, shuffle=False)\n",
        "\n",
        "test_loader = torch.utils.data.DataLoader(test_data, batch_size=batch_size, shuffle=False)\n",
        "\n",
        "print(\"Train dataloader:{}\".format(len(train_loader)))\n",
        "print(\"Test dataloader:{}\".format(len(test_loader)))"
      ],
      "execution_count": null,
      "outputs": [
        {
          "name": "stdout",
          "output_type": "stream",
          "text": [
            "Train dataloader:3000\n",
            "Test dataloader:500\n"
          ]
        }
      ]
    },
    {
      "cell_type": "code",
      "metadata": {
        "id": "DtwVmvolW8pT"
      },
      "source": [
        "class DeepNeuralNetworkModel(nn.Module):\n",
        "    def __init__(self, input_size, num_classes, num_hidden):\n",
        "        super().__init__()\n",
        "       \n",
        "        self.linear_1 = nn.Linear(input_size, num_hidden)\n",
        "        self.relu_1 = nn.ReLU()\n",
        " \n",
        "        self.linear_2 = nn.Linear(num_hidden, num_hidden)\n",
        "        self.relu_2 = nn.ReLU()\n",
        " \n",
        "        self.linear_3 = nn.Linear(num_hidden, num_hidden)\n",
        "        self.relu_3 = nn.ReLU()\n",
        " \n",
        "        self.linear_4 = nn.Linear(num_hidden, num_hidden)\n",
        "        self.relu_4 = nn.ReLU()\n",
        " \n",
        "        self.linear_5= nn.Linear(num_hidden, num_hidden)\n",
        "        self.relu_5= nn.ReLU()\n",
        " \n",
        "        self.linear_6 = nn.Linear(num_hidden, num_hidden)\n",
        "        self.relu_6 = nn.ReLU()\n",
        " \n",
        "        self.linear_out = nn.Linear(num_hidden, num_classes)\n",
        " \n",
        "    def forward(self, x):\n",
        "        out  = self.linear_1(x)\n",
        "        out = self.relu_1(out)\n",
        "        \n",
        "        out  = self.linear_2(out)\n",
        "        out = self.relu_2(out)\n",
        " \n",
        "        out  = self.linear_3(out)\n",
        "        out = self.relu_3(out)\n",
        " \n",
        "        out  = self.linear_4(out)\n",
        "        out = self.relu_4(out)\n",
        " \n",
        "        out  = self.linear_5(out)\n",
        "        out = self.relu_5(out)\n",
        " \n",
        "        out  = self.linear_6(out)\n",
        "        out = self.relu_6(out)\n",
        "        \n",
        "        probas  = self.linear_out(out)\n",
        "        return probas"
      ],
      "execution_count": null,
      "outputs": []
    },
    {
      "cell_type": "code",
      "metadata": {
        "colab": {
          "base_uri": "https://localhost:8080/"
        },
        "id": "UBe39pnGgWtx",
        "outputId": "bb7776ed-2cc9-4274-ca98-73e618af81ce"
      },
      "source": [
        "model = DeepNeuralNetworkModel(input_size = input_dim, num_classes = output_dim, num_hidden = num_hidden)\n",
        "\n",
        "model.to(device)"
      ],
      "execution_count": null,
      "outputs": [
        {
          "data": {
            "text/plain": [
              "DeepNeuralNetworkModel(\n",
              "  (linear_1): Linear(in_features=784, out_features=200, bias=True)\n",
              "  (relu_1): ReLU()\n",
              "  (linear_2): Linear(in_features=200, out_features=200, bias=True)\n",
              "  (relu_2): ReLU()\n",
              "  (linear_3): Linear(in_features=200, out_features=200, bias=True)\n",
              "  (relu_3): ReLU()\n",
              "  (linear_4): Linear(in_features=200, out_features=200, bias=True)\n",
              "  (relu_4): ReLU()\n",
              "  (linear_5): Linear(in_features=200, out_features=200, bias=True)\n",
              "  (relu_5): ReLU()\n",
              "  (linear_6): Linear(in_features=200, out_features=200, bias=True)\n",
              "  (relu_6): ReLU()\n",
              "  (linear_out): Linear(in_features=200, out_features=10, bias=True)\n",
              ")"
            ]
          },
          "execution_count": 65,
          "metadata": {},
          "output_type": "execute_result"
        }
      ]
    },
    {
      "cell_type": "code",
      "metadata": {
        "id": "IVr_WJqYXCvc"
      },
      "source": [
        "criterion = nn.CrossEntropyLoss()\n",
        "optimizer = torch.optim.SGD(model.parameters(), lr = learning_rate)"
      ],
      "execution_count": null,
      "outputs": []
    },
    {
      "cell_type": "code",
      "metadata": {
        "colab": {
          "base_uri": "https://localhost:8080/"
        },
        "id": "8C0rkSy6XLp3",
        "outputId": "28b95a7c-4edf-4b87-fb5a-d9cd0aa7eef0"
      },
      "source": [
        "iteration_loss = []\n",
        "iter = 0\n",
        "for epoch in range(num_epochs):\n",
        "    print('Epoch: ', epoch + 1)\n",
        "    for i, (images, labels) in enumerate(train_loader):\n",
        "\n",
        "        images = images.view(-1, 28*28).to(device)\n",
        "        labels = labels.to(device)\n",
        "\n",
        "        optimizer.zero_grad()\n",
        "\n",
        "        outputs = model(images) \n",
        "\n",
        "        loss = criterion(outputs, labels)\n",
        "\n",
        "        loss.backward()\n",
        "\n",
        "        optimizer.step()\n",
        "\n",
        "        iter += 1\n",
        "\n",
        "        if iter % 500 == 0:        \n",
        "            correct = 0\n",
        "            total = 0\n",
        "            for images, labels in test_loader:\n",
        "               \n",
        "                images = images.view(-1, 28*28).to(device)\n",
        "\n",
        "                outputs = model(images)\n",
        "\n",
        "                _, predicted = torch.max(outputs, 1)\n",
        "\n",
        "                total += labels.size(0)\n",
        "\n",
        "                if torch.cuda.is_available():\n",
        "                    correct += (predicted.cpu() == labels.cpu()).sum() \n",
        "                else:\n",
        "                    correct += (predicted == labels).sum()\n",
        "\n",
        "            accuracy = 100 * correct.item() / total\n",
        "\n",
        "            iteration_loss.append(loss.item())\n",
        "            print('Iteration: {}. Loss: {}. Accuracy: {}'.format(iter, loss.item(), accuracy))"
      ],
      "execution_count": null,
      "outputs": [
        {
          "name": "stdout",
          "output_type": "stream",
          "text": [
            "Epoch:  1\n",
            "Iteration: 500. Loss: 2.296325922012329. Accuracy: 10.0\n",
            "Iteration: 1000. Loss: 2.2740139961242676. Accuracy: 19.56\n",
            "Iteration: 1500. Loss: 2.101510763168335. Accuracy: 21.64\n",
            "Iteration: 2000. Loss: 1.3044039011001587. Accuracy: 44.13\n",
            "Iteration: 2500. Loss: 1.2167963981628418. Accuracy: 59.39\n",
            "Iteration: 3000. Loss: 0.6099315881729126. Accuracy: 66.67\n",
            "Epoch:  2\n",
            "Iteration: 3500. Loss: 1.0396316051483154. Accuracy: 71.38\n",
            "Iteration: 4000. Loss: 1.080285668373108. Accuracy: 75.58\n",
            "Iteration: 4500. Loss: 0.566938042640686. Accuracy: 76.85\n",
            "Iteration: 5000. Loss: 0.7182084321975708. Accuracy: 74.71\n",
            "Iteration: 5500. Loss: 0.9519540667533875. Accuracy: 76.08\n",
            "Iteration: 6000. Loss: 0.6155549883842468. Accuracy: 79.04\n",
            "Epoch:  3\n",
            "Iteration: 6500. Loss: 0.8964263200759888. Accuracy: 81.02\n",
            "Iteration: 7000. Loss: 0.8999016880989075. Accuracy: 81.26\n",
            "Iteration: 7500. Loss: 0.31626957654953003. Accuracy: 81.72\n",
            "Iteration: 8000. Loss: 0.5686392188072205. Accuracy: 78.52\n",
            "Iteration: 8500. Loss: 0.8042274713516235. Accuracy: 82.57\n",
            "Iteration: 9000. Loss: 0.48104652762413025. Accuracy: 81.06\n",
            "Epoch:  4\n",
            "Iteration: 9500. Loss: 0.7921466827392578. Accuracy: 83.75\n",
            "Iteration: 10000. Loss: 0.7275529503822327. Accuracy: 83.59\n",
            "Iteration: 10500. Loss: 0.21569974720478058. Accuracy: 84.52\n",
            "Iteration: 11000. Loss: 0.5236932039260864. Accuracy: 83.96\n",
            "Iteration: 11500. Loss: 0.6758466958999634. Accuracy: 85.21\n",
            "Iteration: 12000. Loss: 0.2907000780105591. Accuracy: 83.3\n",
            "Epoch:  5\n",
            "Iteration: 12500. Loss: 0.7342185974121094. Accuracy: 85.03\n",
            "Iteration: 13000. Loss: 0.5875762104988098. Accuracy: 85.07\n",
            "Iteration: 13500. Loss: 0.21737214922904968. Accuracy: 85.78\n",
            "Iteration: 14000. Loss: 0.4613417685031891. Accuracy: 85.62\n",
            "Iteration: 14500. Loss: 0.5844006538391113. Accuracy: 85.65\n",
            "Iteration: 15000. Loss: 0.2660221755504608. Accuracy: 84.77\n",
            "Epoch:  6\n",
            "Iteration: 15500. Loss: 0.6864287853240967. Accuracy: 85.98\n",
            "Iteration: 16000. Loss: 0.4971272349357605. Accuracy: 85.4\n",
            "Iteration: 16500. Loss: 0.20470209419727325. Accuracy: 86.41\n",
            "Iteration: 17000. Loss: 0.42735999822616577. Accuracy: 86.51\n",
            "Iteration: 17500. Loss: 0.5213355422019958. Accuracy: 86.4\n",
            "Iteration: 18000. Loss: 0.2455364465713501. Accuracy: 85.67\n"
          ]
        }
      ]
    },
    {
      "cell_type": "code",
      "metadata": {
        "colab": {
          "base_uri": "https://localhost:8080/",
          "height": 316
        },
        "id": "wGbgF0_ogpQp",
        "outputId": "16f0a4a0-13c2-4dca-8b67-fd4ca56f525c"
      },
      "source": [
        "print (iteration_loss)\n",
        "plt.plot(iteration_loss)\n",
        "plt.ylabel('Loss')\n",
        "plt.xlabel('Iteration')\n",
        "plt.show()"
      ],
      "execution_count": null,
      "outputs": [
        {
          "name": "stdout",
          "output_type": "stream",
          "text": [
            "[2.296325922012329, 2.2740139961242676, 2.101510763168335, 1.3044039011001587, 1.2167963981628418, 0.6099315881729126, 1.0396316051483154, 1.080285668373108, 0.566938042640686, 0.7182084321975708, 0.9519540667533875, 0.6155549883842468, 0.8964263200759888, 0.8999016880989075, 0.31626957654953003, 0.5686392188072205, 0.8042274713516235, 0.48104652762413025, 0.7921466827392578, 0.7275529503822327, 0.21569974720478058, 0.5236932039260864, 0.6758466958999634, 0.2907000780105591, 0.7342185974121094, 0.5875762104988098, 0.21737214922904968, 0.4613417685031891, 0.5844006538391113, 0.2660221755504608, 0.6864287853240967, 0.4971272349357605, 0.20470209419727325, 0.42735999822616577, 0.5213355422019958, 0.2455364465713501]\n"
          ]
        },
        {
          "data": {
            "image/png": "[encoded data removed]",
            "text/plain": [
              "<Figure size 432x288 with 1 Axes>"
            ]
          },
          "metadata": {},
          "output_type": "display_data"
        }
      ]
    },
    {
      "cell_type": "markdown",
      "metadata": {
        "id": "G0-9-73Nij7Q"
      },
      "source": [
        "## Exp 2 hyper parameter"
      ]
    },
    {
      "cell_type": "code",
      "metadata": {
        "colab": {
          "base_uri": "https://localhost:8080/"
        },
        "id": "qLJIGsIOinMG",
        "outputId": "be48c4cd-d00f-4847-8246-f03a7e2470e6"
      },
      "source": [
        "batch_size = 150\n",
        "num_iters = 28000\n",
        "input_dim = 28*28\n",
        "num_hidden = 220\n",
        "output_dim = 10\n",
        "\n",
        "learning_rate = 0.005\n",
        "\n",
        "num_epochs = num_iters / (len(train_data) / batch_size)\n",
        "num_epochs = int(num_epochs)\n",
        "print(num_epochs)\n",
        "\n",
        "device = torch.device(\"cuda:0\" if torch.cuda.is_available() else \"cpu\")"
      ],
      "execution_count": null,
      "outputs": [
        {
          "name": "stdout",
          "output_type": "stream",
          "text": [
            "70\n"
          ]
        }
      ]
    },
    {
      "cell_type": "code",
      "metadata": {
        "colab": {
          "base_uri": "https://localhost:8080/"
        },
        "id": "6JZ6Qzezis_I",
        "outputId": "f231b8be-c531-40ba-e35b-d1bebbc428c2"
      },
      "source": [
        "train_loader = torch.utils.data.DataLoader(train_data, batch_size=batch_size, shuffle=False)\n",
        "\n",
        "test_loader = torch.utils.data.DataLoader(test_data, batch_size=batch_size, shuffle=False)\n",
        "\n",
        "print(\"Train dataloader:{}\".format(len(train_loader)))\n",
        "print(\"Test dataloader:{}\".format(len(test_loader)))"
      ],
      "execution_count": null,
      "outputs": [
        {
          "name": "stdout",
          "output_type": "stream",
          "text": [
            "Train dataloader:400\n",
            "Test dataloader:67\n"
          ]
        }
      ]
    },
    {
      "cell_type": "code",
      "metadata": {
        "id": "q6yHXlwuivNe"
      },
      "source": [
        "class DeepNeuralNetworkModel(nn.Module):\n",
        "    def __init__(self, input_size, num_classes, num_hidden):\n",
        "        super().__init__()\n",
        "       \n",
        "        self.linear_1 = nn.Linear(input_size, num_hidden)\n",
        "        self.relu_1 = nn.ReLU()\n",
        "\n",
        "        self.linear_2 = nn.Linear(num_hidden, num_hidden)\n",
        "        self.softmax1 = nn.Softmax(dim=0)\n",
        " \n",
        "        self.linear_3 = nn.Linear(num_hidden, num_hidden)\n",
        "        self.relu_2 = nn.ReLU()\n",
        "\n",
        "        self.linear_4 = nn.Linear(num_hidden, num_hidden)\n",
        "        self.relu_3 = nn.ReLU()\n",
        "\n",
        "        \n",
        "\n",
        " \n",
        "        self.linear_out = nn.Linear(num_hidden, num_classes)\n",
        " \n",
        "    def forward(self, x):\n",
        "        out  = self.linear_1(x)\n",
        "        out = self.relu_1(out)\n",
        "\n",
        "        out  = self.linear_2(out)\n",
        "        out = self.softmax1(out)\n",
        "        \n",
        "        out  = self.linear_3(out)\n",
        "        out = self.relu_2(out)\n",
        " \n",
        "        out  = self.linear_4(out)\n",
        "        out = self.relu_3(out)\n",
        "\n",
        "        \n",
        " \n",
        "        \n",
        "        probas  = self.linear_out(out)\n",
        "        return probas\n"
      ],
      "execution_count": null,
      "outputs": []
    },
    {
      "cell_type": "code",
      "metadata": {
        "colab": {
          "base_uri": "https://localhost:8080/"
        },
        "id": "2WfmqqmtjI7M",
        "outputId": "7974cb21-ea28-4fb9-8dc6-4e9ddd6d3b0b"
      },
      "source": [
        "model = DeepNeuralNetworkModel(input_size = input_dim, num_classes = output_dim, num_hidden = num_hidden)\n",
        "\n",
        "model.to(device)"
      ],
      "execution_count": null,
      "outputs": [
        {
          "data": {
            "text/plain": [
              "DeepNeuralNetworkModel(\n",
              "  (linear_1): Linear(in_features=784, out_features=220, bias=True)\n",
              "  (relu_1): ReLU()\n",
              "  (linear_2): Linear(in_features=220, out_features=220, bias=True)\n",
              "  (softmax1): Softmax(dim=0)\n",
              "  (linear_3): Linear(in_features=220, out_features=220, bias=True)\n",
              "  (relu_2): ReLU()\n",
              "  (linear_4): Linear(in_features=220, out_features=220, bias=True)\n",
              "  (relu_3): ReLU()\n",
              "  (linear_out): Linear(in_features=220, out_features=10, bias=True)\n",
              ")"
            ]
          },
          "execution_count": 72,
          "metadata": {},
          "output_type": "execute_result"
        }
      ]
    },
    {
      "cell_type": "code",
      "metadata": {
        "colab": {
          "background_save": true,
          "base_uri": "https://localhost:8080/"
        },
        "id": "yFSQiTjjjK3v",
        "outputId": "3e192c44-0a69-42c2-cda1-20622b6d55c7"
      },
      "source": [
        "criterion = nn.CrossEntropyLoss()\n",
        "optimizer = torch.optim.Adam(model.parameters(), lr = learning_rate)\n",
        "\n",
        "iteration_loss = []\n",
        "iter = 0\n",
        "for epoch in range(num_epochs):\n",
        "    print('Epoch: ', epoch + 1)\n",
        "    for i, (images, labels) in enumerate(train_loader):\n",
        "\n",
        "        images = images.view(-1, 28*28).to(device)\n",
        "        labels = labels.to(device)\n",
        "\n",
        "        optimizer.zero_grad()\n",
        "\n",
        "        outputs = model(images) \n",
        "\n",
        "        loss = criterion(outputs, labels)\n",
        "\n",
        "        loss.backward()\n",
        "\n",
        "        optimizer.step()\n",
        "\n",
        "        iter += 1\n",
        "\n",
        "        if iter % 500 == 0:        \n",
        "            correct = 0\n",
        "            total = 0\n",
        "            for images, labels in test_loader:\n",
        "               \n",
        "                images = images.view(-1, 28*28).to(device)\n",
        "\n",
        "                outputs = model(images)\n",
        "\n",
        "                _, predicted = torch.max(outputs, 1)\n",
        "\n",
        "                total += labels.size(0)\n",
        "\n",
        "                if torch.cuda.is_available():\n",
        "                    correct += (predicted.cpu() == labels.cpu()).sum() \n",
        "                else:\n",
        "                    correct += (predicted == labels).sum()\n",
        "\n",
        "            accuracy = 100 * correct.item() / total\n",
        "\n",
        "            iteration_loss.append(loss.item())\n",
        "            print('Iteration: {}. Loss: {}. Accuracy: {}'.format(iter, loss.item(), accuracy))"
      ],
      "execution_count": null,
      "outputs": [
        {
          "name": "stdout",
          "output_type": "stream",
          "text": [
            "Epoch:  1\n",
            "Epoch:  2\n",
            "Iteration: 500. Loss: 0.5389787554740906. Accuracy: 83.92\n",
            "Epoch:  3\n",
            "Iteration: 1000. Loss: 0.3615964353084564. Accuracy: 85.59\n",
            "Epoch:  4\n",
            "Iteration: 1500. Loss: 0.42291492223739624. Accuracy: 85.6\n",
            "Epoch:  5\n",
            "Iteration: 2000. Loss: 0.3009078800678253. Accuracy: 85.59\n",
            "Epoch:  6\n",
            "Epoch:  7\n",
            "Iteration: 2500. Loss: 0.4050148129463196. Accuracy: 85.71\n",
            "Epoch:  8\n",
            "Iteration: 3000. Loss: 0.37118595838546753. Accuracy: 86.25\n",
            "Epoch:  9\n",
            "Iteration: 3500. Loss: 0.3904319703578949. Accuracy: 85.85\n",
            "Epoch:  10\n",
            "Iteration: 4000. Loss: 0.32148873805999756. Accuracy: 86.38\n",
            "Epoch:  11\n",
            "Epoch:  12\n",
            "Iteration: 4500. Loss: 0.4102630913257599. Accuracy: 85.75\n",
            "Epoch:  13\n",
            "Iteration: 5000. Loss: 0.29493963718414307. Accuracy: 86.6\n",
            "Epoch:  14\n",
            "Iteration: 5500. Loss: 0.3335580825805664. Accuracy: 86.25\n",
            "Epoch:  15\n",
            "Iteration: 6000. Loss: 0.3543508052825928. Accuracy: 86.16\n",
            "Epoch:  16\n",
            "Epoch:  17\n",
            "Iteration: 6500. Loss: 0.46065887808799744. Accuracy: 86.5\n",
            "Epoch:  18\n",
            "Iteration: 7000. Loss: 0.2607938349246979. Accuracy: 86.41\n",
            "Epoch:  19\n",
            "Iteration: 7500. Loss: 0.38235774636268616. Accuracy: 85.71\n",
            "Epoch:  20\n",
            "Iteration: 8000. Loss: 0.22367507219314575. Accuracy: 86.06\n",
            "Epoch:  21\n",
            "Epoch:  22\n",
            "Iteration: 8500. Loss: 0.3226235508918762. Accuracy: 86.46\n",
            "Epoch:  23\n",
            "Iteration: 9000. Loss: 0.33743831515312195. Accuracy: 86.14\n",
            "Epoch:  24\n",
            "Iteration: 9500. Loss: 0.43147701025009155. Accuracy: 86.16\n",
            "Epoch:  25\n",
            "Iteration: 10000. Loss: 0.18145953118801117. Accuracy: 86.6\n",
            "Epoch:  26\n",
            "Epoch:  27\n",
            "Iteration: 10500. Loss: 0.2957000732421875. Accuracy: 86.57\n",
            "Epoch:  28\n",
            "Iteration: 11000. Loss: 0.27705687284469604. Accuracy: 85.86\n",
            "Epoch:  29\n",
            "Iteration: 11500. Loss: 0.3070594072341919. Accuracy: 85.68\n",
            "Epoch:  30\n",
            "Iteration: 12000. Loss: 0.31033697724342346. Accuracy: 85.82\n",
            "Epoch:  31\n",
            "Epoch:  32\n",
            "Iteration: 12500. Loss: 0.37565746903419495. Accuracy: 85.37\n",
            "Epoch:  33\n",
            "Iteration: 13000. Loss: 0.2659919261932373. Accuracy: 85.85\n",
            "Epoch:  34\n",
            "Iteration: 13500. Loss: 0.33569321036338806. Accuracy: 86.23\n",
            "Epoch:  35\n",
            "Iteration: 14000. Loss: 0.21433542668819427. Accuracy: 85.81\n",
            "Epoch:  36\n",
            "Epoch:  37\n",
            "Iteration: 14500. Loss: 0.2756637930870056. Accuracy: 85.65\n",
            "Epoch:  38\n",
            "Iteration: 15000. Loss: 0.2775881588459015. Accuracy: 85.35\n",
            "Epoch:  39\n",
            "Iteration: 15500. Loss: 0.2691574990749359. Accuracy: 85.57\n",
            "Epoch:  40\n",
            "Iteration: 16000. Loss: 0.3032541871070862. Accuracy: 85.28\n",
            "Epoch:  41\n",
            "Epoch:  42\n",
            "Iteration: 16500. Loss: 0.3661595284938812. Accuracy: 85.63\n",
            "Epoch:  43\n",
            "Iteration: 17000. Loss: 0.27097636461257935. Accuracy: 85.35\n",
            "Epoch:  44\n",
            "Iteration: 17500. Loss: 0.30812549591064453. Accuracy: 85.59\n",
            "Epoch:  45\n",
            "Iteration: 18000. Loss: 0.22648081183433533. Accuracy: 85.7\n",
            "Epoch:  46\n",
            "Epoch:  47\n",
            "Iteration: 18500. Loss: 0.29668667912483215. Accuracy: 85.85\n",
            "Epoch:  48\n",
            "Iteration: 19000. Loss: 0.24963226914405823. Accuracy: 85.3\n",
            "Epoch:  49\n",
            "Iteration: 19500. Loss: 0.30306610465049744. Accuracy: 86.34\n",
            "Epoch:  50\n",
            "Iteration: 20000. Loss: 0.20249414443969727. Accuracy: 85.61\n",
            "Epoch:  51\n",
            "Epoch:  52\n",
            "Iteration: 20500. Loss: 0.274117648601532. Accuracy: 85.42\n",
            "Epoch:  53\n",
            "Iteration: 21000. Loss: 0.30678606033325195. Accuracy: 85.45\n",
            "Epoch:  54\n",
            "Iteration: 21500. Loss: 0.3322153687477112. Accuracy: 85.07\n",
            "Epoch:  55\n",
            "Iteration: 22000. Loss: 0.2587164342403412. Accuracy: 84.93\n",
            "Epoch:  56\n",
            "Epoch:  57\n",
            "Iteration: 22500. Loss: 0.2892252206802368. Accuracy: 85.75\n",
            "Epoch:  58\n",
            "Iteration: 23000. Loss: 0.3104448914527893. Accuracy: 85.76\n",
            "Epoch:  59\n",
            "Iteration: 23500. Loss: 0.3563773036003113. Accuracy: 85.76\n",
            "Epoch:  60\n",
            "Iteration: 24000. Loss: 0.27971935272216797. Accuracy: 84.57\n",
            "Epoch:  61\n",
            "Epoch:  62\n",
            "Iteration: 24500. Loss: 0.32086488604545593. Accuracy: 85.32\n",
            "Epoch:  63\n",
            "Iteration: 25000. Loss: 0.2916554808616638. Accuracy: 85.12\n",
            "Epoch:  64\n",
            "Iteration: 25500. Loss: 0.3609209954738617. Accuracy: 85.32\n",
            "Epoch:  65\n",
            "Iteration: 26000. Loss: 0.2322493940591812. Accuracy: 85.9\n",
            "Epoch:  66\n",
            "Epoch:  67\n",
            "Iteration: 26500. Loss: 0.26797884702682495. Accuracy: 85.16\n",
            "Epoch:  68\n",
            "Iteration: 27000. Loss: 0.27810928225517273. Accuracy: 84.61\n",
            "Epoch:  69\n",
            "Iteration: 27500. Loss: 0.3912416696548462. Accuracy: 85.54\n",
            "Epoch:  70\n",
            "Iteration: 28000. Loss: 0.2256753295660019. Accuracy: 85.2\n"
          ]
        }
      ]
    },
    {
      "cell_type": "code",
      "metadata": {
        "id": "4qcuxYOWjNUm",
        "colab": {
          "base_uri": "https://localhost:8080/",
          "height": 317
        },
        "outputId": "8248cf0a-06ee-40ad-ef59-48de3293b916"
      },
      "source": [
        "print (iteration_loss)\n",
        "plt.plot(iteration_loss)\n",
        "plt.ylabel('Loss')\n",
        "plt.xlabel('Iteration')\n",
        "plt.show()"
      ],
      "execution_count": null,
      "outputs": [
        {
          "output_type": "stream",
          "name": "stdout",
          "text": [
            "[0.5389787554740906, 0.3615964353084564, 0.42291492223739624, 0.3009078800678253, 0.4050148129463196, 0.37118595838546753, 0.3904319703578949, 0.32148873805999756, 0.4102630913257599, 0.29493963718414307, 0.3335580825805664, 0.3543508052825928, 0.46065887808799744, 0.2607938349246979, 0.38235774636268616, 0.22367507219314575, 0.3226235508918762, 0.33743831515312195, 0.43147701025009155, 0.18145953118801117, 0.2957000732421875, 0.27705687284469604, 0.3070594072341919, 0.31033697724342346, 0.37565746903419495, 0.2659919261932373, 0.33569321036338806, 0.21433542668819427, 0.2756637930870056, 0.2775881588459015, 0.2691574990749359, 0.3032541871070862, 0.3661595284938812, 0.27097636461257935, 0.30812549591064453, 0.22648081183433533, 0.29668667912483215, 0.24963226914405823, 0.30306610465049744, 0.20249414443969727, 0.274117648601532, 0.30678606033325195, 0.3322153687477112, 0.2587164342403412, 0.2892252206802368, 0.3104448914527893, 0.3563773036003113, 0.27971935272216797, 0.32086488604545593, 0.2916554808616638, 0.3609209954738617, 0.2322493940591812, 0.26797884702682495, 0.27810928225517273, 0.3912416696548462, 0.2256753295660019]\n"
          ]
        },
        {
          "output_type": "display_data",
          "data": {
            "image/png": "[encoded data removed]",
            "text/plain": [
              "<Figure size 432x288 with 1 Axes>"
            ]
          },
          "metadata": {
            "needs_background": "light"
          }
        }
      ]
    }
  ]
}